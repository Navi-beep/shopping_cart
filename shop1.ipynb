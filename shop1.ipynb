{
 "cells": [
  {
   "cell_type": "code",
   "execution_count": 1,
   "id": "db24296f",
   "metadata": {},
   "outputs": [
    {
     "name": "stdout",
     "output_type": "stream",
     "text": [
      "carrots 1 @ $2.0 subtotal - $2.0\n",
      "coffee 1 @ $4.0 subtotal - $4.0\n",
      "Receipt total: $6.00\n",
      "Shop smart. Shop S-Mart.\n",
      "Groovy\n",
      "****************\n"
     ]
    }
   ],
   "source": [
    "from IPython.display import clear_output\n",
    "\n",
    "def shopping_list(shopping_list_1=[]):  \n",
    "    while True:\n",
    "        ask = input(\"Would you like to add some tasty food? \\n Type 'a' to add, 'l' to view current shopping list, 'd' to delete a food, or 'q' to quit shopping\\n\")\n",
    "        \n",
    "        clear_output()\n",
    "    \n",
    "        while ask not in {'q','a','d','l'}:\n",
    "            clear_output()\n",
    "            ask = input(\"Please choose another option! Please type 'q', 'a', 'l', or 'd' \\n\")\n",
    "            \n",
    "        if ask == 'a':\n",
    "            food = input('What food would you like to add to your list?: ')\n",
    "            amount = input('How much would you like to buy? ')\n",
    "            cost = input('How much does your food cost?: ')\n",
    "            food_item = { 'food_name':food, 'amount':int(amount), 'cost': float(cost) }\n",
    "            shopping_list_1.append(food_item)\n",
    "            clear_output()\n",
    "\n",
    "        if ask == 'l':\n",
    "            if shopping_list_1:\n",
    "                for food in shopping_list_1:\n",
    "                    print(f\"{food['food_name']} - {food['amount']} @ ${food['cost']}\")\n",
    "            else:\n",
    "                print(\"No items in the shopping cart!\")\n",
    "            print(\"\\n\")\n",
    "\n",
    "        if ask == 'd':\n",
    "            clear_output()\n",
    "            askDelete = input(\"What do you want to remove from your shopping list? \")\n",
    "            exists = False\n",
    "            for food in shopping_list_1:\n",
    "                if food['food_name'] == askDelete:\n",
    "                    shopping_list_1.remove(food)\n",
    "                    print(\"Removed food from shopping cart!\")\n",
    "                    exists = True\n",
    "                    break\n",
    "\n",
    "            if exists == False:\n",
    "                print(\"Food is not in the shopping cart!\")\n",
    "\n",
    "        if ask == 'q':\n",
    "            clear_output()\n",
    "            receipt_total = 0\n",
    "            for food in shopping_list_1:\n",
    "                food_total = food['amount'] * food['cost']\n",
    "                receipt_total = receipt_total + food_total\n",
    "                print(f\"{food['food_name']} {food['amount']} @ ${food['cost']} subtotal - ${food_total}\")\n",
    "                food_total = 0\n",
    "            print(\"Receipt total: $%.2f\" % receipt_total)\n",
    "            print(\"Shop smart. Shop S-Mart.\")\n",
    "            print(\"Groovy\")\n",
    "            print(\"****************\")\n",
    "            break\n",
    "            \n",
    "\n",
    "shopping_list_1 = shopping_list()"
   ]
  },
  {
   "cell_type": "code",
   "execution_count": null,
   "id": "dab6cdd7",
   "metadata": {},
   "outputs": [],
   "source": []
  }
 ],
 "metadata": {
  "kernelspec": {
   "display_name": "Python 3 (ipykernel)",
   "language": "python",
   "name": "python3"
  },
  "language_info": {
   "codemirror_mode": {
    "name": "ipython",
    "version": 3
   },
   "file_extension": ".py",
   "mimetype": "text/x-python",
   "name": "python",
   "nbconvert_exporter": "python",
   "pygments_lexer": "ipython3",
   "version": "3.9.12"
  }
 },
 "nbformat": 4,
 "nbformat_minor": 5
}
