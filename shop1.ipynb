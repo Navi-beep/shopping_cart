{
 "cells": [
  {
   "cell_type": "code",
   "execution_count": null,
   "id": "cf14b114",
   "metadata": {},
   "outputs": [
    {
     "name": "stdout",
     "output_type": "stream",
     "text": [
      "Would you like to add more food? \n",
      " Type 'a' to add, 'd' to delete a food, or 'n' to quit\n",
      "n\n",
      "(1000, 'Bread', 5.0, 5000.0)\n",
      "Receipt total: $5000.00\n",
      "Shop smart. Shop S-Mart.\n"
     ]
    }
   ],
   "source": [
    "#Takes in an input\n",
    "#Stores user input into a dictionary or list\n",
    "#The User can add or delete items\n",
    "#The User can see current shopping list\n",
    "#The program Loops until user 'quits'\n",
    "#Upon quiting the program, prints out a receipt of the items with total and quantity.\n",
    "\n",
    "from IPython.display import clear_output\n",
    "\n",
    "def shopping_list(shopping_list_1=[]):\n",
    "    food_item = {}\n",
    "    \n",
    "    while True:\n",
    "        food = input('What food would you like to add to your list?: ')\n",
    "        amount = input(f\"How much would you like to buy?\")\n",
    "        cost = input(\"How much does your food cost?: \\n\")\n",
    "\n",
    "        #shopping_list_1[name] = amount\n",
    "        clear_output()\n",
    "        ask = input(\"Would you like to add more food? \\n Type 'a' to add, 'd' to delete a food, or 'n' to quit\\n\")\n",
    "        food_item = {'food_name':food, 'amount':int(amount), 'cost': float(cost)}\n",
    "    \n",
    "        shopping_list_1.append(food_item)\n",
    "        \n",
    "        if ask =='a':\n",
    "            clear_output()\n",
    "            continue\n",
    "        \n",
    "        if ask =='d':\n",
    "            clear_output()\n",
    "            ask = input(\"What do you want to remove from your shopping list?\")\n",
    "            shopping_list_1.remove(food_item)\n",
    "            print(shopping_list_1)\n",
    "        \n",
    "        while ask not in {'n','a','d'}:\n",
    "            clear_output()\n",
    "            ask = input(\"That is not a decent response. Please type 'n', 'a', or 'd' \\n\")\n",
    "\n",
    "            if ask == 'n':\n",
    "                #print(shopping_list_1)\n",
    "                clear_output()\n",
    "                break\n",
    "\n",
    "        for food in shopping_list_1:\n",
    "            #print(shopping_list_1)\n",
    "            food_total = food['amount'] * food['cost']\n",
    "            grand_total = 0\n",
    "            grand_total = grand_total + food_total\n",
    "            print((food['amount'], food['food_name'], food['cost'], food_total))\n",
    "            food_total = 0\n",
    "            print(\"Receipt total: $%.2f\" % grand_total)\n",
    "            print(\"Shop smart. Shop S-Mart.\")\n",
    "                \n",
    "            \n",
    "    \n",
    "                \n",
    "shopping_list_1 = shopping_list()"
   ]
  },
  {
   "cell_type": "code",
   "execution_count": null,
   "id": "67a00637",
   "metadata": {},
   "outputs": [],
   "source": []
  },
  {
   "cell_type": "code",
   "execution_count": null,
   "id": "5c2c70f1",
   "metadata": {},
   "outputs": [],
   "source": []
  },
  {
   "cell_type": "code",
   "execution_count": null,
   "id": "084a3365",
   "metadata": {},
   "outputs": [],
   "source": []
  }
 ],
 "metadata": {
  "kernelspec": {
   "display_name": "Python 3 (ipykernel)",
   "language": "python",
   "name": "python3"
  },
  "language_info": {
   "codemirror_mode": {
    "name": "ipython",
    "version": 3
   },
   "file_extension": ".py",
   "mimetype": "text/x-python",
   "name": "python",
   "nbconvert_exporter": "python",
   "pygments_lexer": "ipython3",
   "version": "3.9.12"
  }
 },
 "nbformat": 4,
 "nbformat_minor": 5
}
